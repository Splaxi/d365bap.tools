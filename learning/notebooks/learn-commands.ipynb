{
 "cells": [
  {
   "cell_type": "markdown",
   "metadata": {},
   "source": [
    "# Learn commands\n",
    "\n",
    "The d365bap.tools module  contains multiple cmdlets. Use this notebook to learn how to get to know them.\n",
    "\n",
    "If this is your first time using this module, take a look at the [Get Started](get-started.ipynb) notebook.\n",
    "\n",
    "# List the available commands\n",
    "\n",
    "To list the available commands, use the `Get-Command` cmdlet."
   ]
  },
  {
   "cell_type": "code",
   "execution_count": 4,
   "metadata": {
    "dotnet_interactive": {
     "language": "pwsh"
    },
    "polyglot_notebook": {
     "kernelName": "pwsh"
    },
    "vscode": {
     "languageId": "polyglot-notebook"
    }
   },
   "outputs": [
    {
     "name": "stdout",
     "output_type": "stream",
     "text": [
      "\n",
      "\u001b[32;1mCommandType    \u001b[0m\u001b[32;1m Name                                              \u001b[0m\u001b[32;1m Version   \u001b[0m\u001b[32;1m Source\u001b[0m\n",
      "\u001b[32;1m-----------    \u001b[0m \u001b[32;1m----                                              \u001b[0m \u001b[32;1m-------   \u001b[0m \u001b[32;1m------\u001b[0m\n",
      "Function        Compare-BapEnvironmentD365App                      0.0.14     d365bap.tools\n",
      "Function        Compare-BapEnvironmentUser                         0.0.14     d365bap.tools\n",
      "Function        Compare-BapEnvironmentVirtualEntity                0.0.14     d365bap.tools\n",
      "Function        Confirm-BapEnvironmentIntegration                  0.0.14     d365bap.tools\n",
      "Function        Get-BapEnvironment                                 0.0.14     d365bap.tools\n",
      "Function        Get-BapEnvironmentApplicationUser                  0.0.14     d365bap.tools\n",
      "Function        Get-BapEnvironmentD365App                          0.0.14     d365bap.tools\n",
      "Function        Get-BapEnvironmentUser                             0.0.14     d365bap.tools\n",
      "Function        Get-BapEnvironmentVirtualEntity                    0.0.14     d365bap.tools\n",
      "Function        Invoke-BapEnvironmentInstallD365App                0.0.14     d365bap.tools\n",
      "Function        Set-BapEnvironmentVirtualEntity                    0.0.14     d365bap.tools\n",
      "Function        Update-BapEnvironmentVirtualEntityMetadata         0.0.14     d365bap.tools\n",
      "\n"
     ]
    }
   ],
   "source": [
    "Get-Command -Module d365bap.tools"
   ]
  },
  {
   "cell_type": "markdown",
   "metadata": {},
   "source": [
    "# Learn more about a cmdlet\n",
    "\n",
    "The names of the cmdlets follow the conventions for using a [PowerShell verb](https://learn.microsoft.com/en-us/powershell/scripting/developer/cmdlet/approved-verbs-for-windows-powershell-commands) as the first part of the name. If you are familiar with that convention, you can already guess from the name alone a lot about the purpose of a cmdlet.\n",
    "\n",
    "To learn more about a cmdlet, you can use the `Get-Help` cmdlet, which was introduced in [Get Started](get-started.ipynb)."
   ]
  },
  {
   "cell_type": "code",
   "execution_count": 10,
   "metadata": {
    "dotnet_interactive": {
     "language": "pwsh"
    },
    "polyglot_notebook": {
     "kernelName": "pwsh"
    },
    "vscode": {
     "languageId": "polyglot-notebook"
    }
   },
   "outputs": [
    {
     "name": "stdout",
     "output_type": "stream",
     "text": [
      "\n",
      "NAME\n",
      "    Get-BapEnvironmentUser\n",
      "    \n",
      "SYNOPSIS\n",
      "    Get users from environment\n",
      "    \n",
      "    \n",
      "SYNTAX\n",
      "    Get-BapEnvironmentUser [-EnvironmentId] <String> [-IncludeAppIds] [-AsExcelOutput] \n",
      "    [<CommonParameters>]\n",
      "    \n",
      "    \n",
      "DESCRIPTION\n",
      "    Enables the user to fetch all users from the environment\n",
      "    \n",
      "    Utilizes the built-in \"systemusers\" OData entity\n",
      "    \n",
      "    Allows the user to include all users, based on those who has the ApplicationId property filled\n",
      "    \n",
      "\n",
      "RELATED LINKS\n",
      "\n",
      "REMARKS\n",
      "    To see the examples, type: \"Get-Help Get-BapEnvironmentUser -Examples\"\n",
      "    For more information, type: \"Get-Help Get-BapEnvironmentUser -Detailed\"\n",
      "    For technical information, type: \"Get-Help Get-BapEnvironmentUser -Full\"\n",
      "\n",
      "\n"
     ]
    }
   ],
   "source": [
    "Get-Help Get-BapEnvironmentUser"
   ]
  },
  {
   "cell_type": "markdown",
   "metadata": {},
   "source": [
    "# Authenticate\n",
    "\n",
    "Remember that in order to run a cmdlet, you must authenticate your Azure account first with `Connect-AzAccount`. Review [Get Started](get-started.ipynb) on how to do this. For the purpose of this notebook, the following cell is provided to do the authentication. Feel free to change it to suit your needs."
   ]
  },
  {
   "cell_type": "code",
   "execution_count": 1,
   "metadata": {
    "dotnet_interactive": {
     "language": "pwsh"
    },
    "polyglot_notebook": {
     "kernelName": "pwsh"
    },
    "vscode": {
     "languageId": "polyglot-notebook"
    }
   },
   "outputs": [
    {
     "name": "stdout",
     "output_type": "stream",
     "text": [
      "\u001b[93mWARNING: To sign in, use a web browser to open the page https://microsoft.com/devicelogin and enter the code ABCD1234 to authenticate.\u001b[0m\n",
      "\n",
      "\u001b[32;1;3mAccount                 \u001b[0m \u001b[32;1;3mSubscriptionName                \u001b[0m \u001b[32;1;3mTenantId                            \u001b[0m \u001b[32;1;3mEnvi\u001b[0m\n",
      "\u001b[32;1;3m                        \u001b[0m \u001b[32;1;3m                                \u001b[0m \u001b[32;1;3m                                    \u001b[0m \u001b[32;1;3mronm\u001b[0m\n",
      "\u001b[32;1;3m                        \u001b[0m \u001b[32;1;3m                                \u001b[0m \u001b[32;1;3m                                    \u001b[0m \u001b[32;1;3ment\u001b[0m\n",
      "\u001b[32;1m-------                 \u001b[0m \u001b[32;1m----------------                \u001b[0m \u001b[32;1m--------                            \u001b[0m \u001b[32;1m----\u001b[0m\n",
      "me@mycompany.com         MySubscriptionName               abcdefgh-1234-5678-90ab-cdefghijklmn Azu…\n",
      "\n"
     ]
    }
   ],
   "source": [
    "Connect-AzAccount -UseDeviceAuthentication"
   ]
  },
  {
   "cell_type": "markdown",
   "metadata": {},
   "source": [
    "# The Get cmdlets\n",
    "\n",
    "The `Get` cmdlets are used to retrieve information about your business applications. They are often easy to use and provide interesting output, which makes them good candidates to explore first.\n",
    "\n",
    "## Get-BapEnvironment and Get-BapEnvironmentUser\n",
    "\n",
    "In [Get Started](get-started.ipynb) you already learned about the `Get-BapEnvironment` cmdlet. The information from that can be used for other cmdlets. `Get-BapEnvironmentUser` requires an `-EnvironmentId` parameter to list the users of an environment. The following cell shows how the id of the first environment returned by `Get-BapEnvironment` is used with the `Get-BapEnvironmentUser` cmdlet.\n",
    "\n",
    "Remember that you can use the `-AsExcelOutput` parameter to get the list of users as an Excel file."
   ]
  },
  {
   "cell_type": "code",
   "execution_count": 2,
   "metadata": {
    "dotnet_interactive": {
     "language": "pwsh"
    },
    "polyglot_notebook": {
     "kernelName": "pwsh"
    },
    "vscode": {
     "languageId": "polyglot-notebook"
    }
   },
   "outputs": [
    {
     "name": "stdout",
     "output_type": "stream",
     "text": [
      "\n",
      "\u001b[32;1mEmail                         \u001b[0m\u001b[32;1m Name                          \u001b[0m\u001b[32;1m AppId               \u001b[0m\u001b[32;1m Systemuserid\u001b[0m\n",
      "\u001b[32;1m-----                         \u001b[0m \u001b[32;1m----                          \u001b[0m \u001b[32;1m-----               \u001b[0m \u001b[32;1m------------\u001b[0m\n",
      "                               SYSTEM                                              abcdefgh-1234-5…\n",
      "                               INTEGRATION                                         abcdefgh-1234-5…\n",
      "365Administrator@mycompany.com 365 Admin                                           abcdefgh-1234-5…\n",
      "crmoln@microsoft.com           Support User                                        abcdefgh-1234-5…\n",
      "crmoln2@microsoft.com          Delegated Admin                                     abcdefgh-1234-5…\n",
      "\n"
     ]
    }
   ],
   "source": [
    "$environments = Get-BapEnvironment\n",
    "$firstEnvironmentId = $environments[0].Id\n",
    "Get-BapEnvironmentUser -EnvironmentId $firstEnvironmentId"
   ]
  },
  {
   "cell_type": "markdown",
   "metadata": {},
   "source": [
    "## Get-BapEnvironmentApplicationUser\n",
    "\n",
    "In a similar fashion, you can use the `Get-BapEnvironmentApplicationUser` cmdlet to list all the application users of an environment."
   ]
  },
  {
   "cell_type": "code",
   "execution_count": 16,
   "metadata": {
    "dotnet_interactive": {
     "language": "pwsh"
    },
    "polyglot_notebook": {
     "kernelName": "pwsh"
    },
    "vscode": {
     "languageId": "polyglot-notebook"
    }
   },
   "outputs": [
    {
     "name": "stdout",
     "output_type": "stream",
     "text": [
      "\n",
      "\u001b[32;1mAppId                               \u001b[0m\u001b[32;1m AppName                       \u001b[0m\u001b[32;1m ApplicationUserId\u001b[0m\n",
      "\u001b[32;1m-----                               \u001b[0m \u001b[32;1m-------                       \u001b[0m \u001b[32;1m-----------------              \u001b[0m\n",
      "abcdefgh-1234-5678-90ab-cdefghijklmn AppDeploymentOrchestration     abcdefgh-1234-5678-90ab-cdefg…\n",
      "\n"
     ]
    }
   ],
   "source": [
    "Get-BapEnvironmentApplicationUser -EnvironmentId $firstEnvironmentId"
   ]
  },
  {
   "cell_type": "markdown",
   "metadata": {},
   "source": [
    "## Get-BapEnvironmentD365App\n",
    "\n",
    "Moving on from users, the `Get-BapEnvironmentD365App` cmdlet lists all the solutions of an environment. This includes the solutions that make up the Dynamics 365 business applications."
   ]
  },
  {
   "cell_type": "code",
   "execution_count": 4,
   "metadata": {
    "dotnet_interactive": {
     "language": "pwsh"
    },
    "polyglot_notebook": {
     "kernelName": "pwsh"
    },
    "vscode": {
     "languageId": "polyglot-notebook"
    }
   },
   "outputs": [
    {
     "name": "stdout",
     "output_type": "stream",
     "text": [
      "\n",
      "\u001b[32;1mPackageId                           \u001b[0m\u001b[32;1m PackageName                   \u001b[0m\u001b[32;1m AvailableVersion   \u001b[0m\u001b[32;1m InstalledVe\u001b[0m\n",
      "\u001b[32;1m                                    \u001b[0m\u001b[32;1m                               \u001b[0m\u001b[32;1m                    \u001b[0m\u001b[32;1m rsion\u001b[0m\n",
      "\u001b[32;1m---------                           \u001b[0m \u001b[32;1m-----------                   \u001b[0m \u001b[32;1m----------------   \u001b[0m \u001b[32;1m-----------\u001b[0m\n",
      "abcdefgh-1234-5678-90ab-cdefghijklmn msdyn_ExportControlAnchor      1.0.2601.2          N/A        \n",
      "\n"
     ]
    }
   ],
   "source": [
    "Get-BapEnvironmentD365App -EnvironmentId $firstEnvironmentId"
   ]
  },
  {
   "cell_type": "markdown",
   "metadata": {},
   "source": [
    "## Get-BapEnvironmentVirtualEntity\n",
    "\n",
    "The `Get-BapEnvironmentVirtualEntity` cmdlet lists all the virtual entities of an environment. Without any filters, this command can take a few minutes to complete. For demonstration purposes, the following cell uses a filter to only return virtual entities that contain the text \"cust\" in their name. But feel free to remove that filter or use your own filter expression.\n",
    "\n",
    "Note that this cmdlet requires a Dynamics 365 Finance and Operations app as part of the environment. You can filter the result of `Get-BapEnvironment` to only those that have a value for the `LinkedAppLcsEnvUri` property."
   ]
  },
  {
   "cell_type": "code",
   "execution_count": 6,
   "metadata": {
    "dotnet_interactive": {
     "language": "pwsh"
    },
    "polyglot_notebook": {
     "kernelName": "pwsh"
    },
    "vscode": {
     "languageId": "polyglot-notebook"
    }
   },
   "outputs": [
    {
     "name": "stdout",
     "output_type": "stream",
     "text": [
      "\n",
      "\u001b[32;1mEntityName                    \u001b[0m\u001b[32;1m IsVisible\u001b[0m\u001b[32;1m ChangeTrackingEnabled\u001b[0m\u001b[32;1m EntityGuid\u001b[0m\n",
      "\u001b[32;1m----------                    \u001b[0m \u001b[32;1m---------\u001b[0m \u001b[32;1m---------------------\u001b[0m \u001b[32;1m----------\u001b[0m\n",
      "BankCustPaymModeBankAccountsE… False     False                 00005ea6-0000-0000-6505-005001000000\n",
      "BusinessDocumentCustPaymSched… False     False                 00005ea6-0000-0000-f201-005001000000\n",
      "BusinessDocumentCustTransEnti… False     False                 00005ea6-0000-0000-a117-005001000000\n",
      "BusinessDocumentCustVendCredi… False     False                 00005ea6-0000-0000-7917-005001000000\n",
      "CredManCreditLimitCustGroupEn… False     False                 00005ea6-0000-0000-4e09-005001000000\n",
      "CredManCreditLimitCustGroupLi… False     False                 00005ea6-0000-0000-4909-005001000000\n",
      "CredManCustBalanceStatEntity   False     False                 00005ea6-0000-0000-4709-005001000000\n",
      "CredManCustGuaranteeInsurance… False     False                 00005ea6-0000-0000-4a09-005001000000\n",
      "CredManCustRiskScoreEntity     False     False                 00005ea6-0000-0000-4d09-005001000000\n",
      "CustAdvancedInvoiceEntity      False     False                 00005ea6-0000-0000-7007-005001000000\n",
      "CustAdvancedInvoiceItemsEntity False     False                 00005ea6-0000-0000-8a07-005001000000\n",
      "CustAgingEntity                False     False                 00005ea6-0000-0000-e805-005001000000\n",
      "CustBillingClassificationCode… False     False                 00005ea6-0000-0000-1d03-005001000000\n",
      "CustBillingClassificationEnti… False     False                 00005ea6-0000-0000-5703-005001000000\n",
      "CustBillingCodeAccountingDist… False     False                 00005ea6-0000-0000-a602-005001000000\n",
      "CustBillingCodeCustomFieldEnt… False     False                 00005ea6-0000-0000-ff07-005001000000\n",
      "CustBillingCodeRateEntity      False     False                 00005ea6-0000-0000-8806-005001000000\n",
      "CustBillingCodeVersionEntity   False     False                 00005ea6-0000-0000-ad05-005001000000\n",
      "CustChargeCustomerGroupEntity  False     False                 00005ea6-0000-0000-7817-005001000000\n",
      "CustCollectionAgencyFeeEntity  False     False                 00005ea6-0000-0000-4506-005001000000\n",
      "CustCollectionAgencyGracePeri… False     False                 00005ea6-0000-0000-0707-005001000000\n",
      "CustCollectionLetterCourseCds… False     False                 00005ea6-0000-0000-0508-005001000000\n",
      "CustConsInvoiceEntity          False     False                 00005ea6-0000-0000-3f07-005001000000\n",
      "CustCustomerBaseEntity         False     False                 00005ea6-0000-0000-4102-005001000000\n",
      "CustCustomerEntity             False     False                 00005ea6-0000-0000-4906-005001000000\n",
      "CustCustomerGroupEntity        False     False                 00005ea6-0000-0000-b904-005001000000\n",
      "CustCustomerPaymentFineCodeEn… False     False                 00005ea6-0000-0000-7f08-005001000000\n",
      "CustCustomerPostingProfileHea… False     False                 00005ea6-0000-0000-bf04-005001000000\n",
      "CustCustomerPostingProfileLin… False     False                 00005ea6-0000-0000-6703-005001000000\n",
      "CustCustomerReasonEntity       False     False                 00005ea6-0000-0000-7c08-005001000000\n",
      "CustCustomerStatisticsGroupEn… False     False                 00005ea6-0000-0000-e105-005001000000\n",
      "CustCustomerV2Entity           False     False                 00005ea6-0000-0000-c803-005001000000\n",
      "CustCustomerV3Entity           False     False                 00005ea6-0000-0000-3a03-005001000000\n",
      "CustCustomFieldEntity          False     False                 00005ea6-0000-0000-7f07-005001000000\n",
      "CustDirectDebitMandateEntity   False     False                 00005ea6-0000-0000-f705-005001000000\n",
      "CustEInvoiceErrorCodeEntity    False     False                 00005ea6-0000-0000-7b03-005001000000\n",
      "CustEinvoiceIntegrationTypeEn… False     False                 00005ea6-0000-0000-3f05-005001000000\n",
      "CustEntryCertificateJournalEn… False     False                 00005ea6-0000-0000-0d02-005001000000\n",
      "CustIntentLetterEntity_IT      False     False                 00005ea6-0000-0000-d504-005001000000\n",
      "CustInterestCdsEntity          False     False                 00005ea6-0000-0000-4701-005001000000\n",
      "CustInvoiceJournalHeaderEntity False     False                 00005ea6-0000-0000-4406-005001000000\n",
      "CustInvoiceJournalLineEntity   False     False                 00005ea6-0000-0000-7202-005001000000\n",
      "CustomChequeLayoutEntity       False     False                 00005ea6-0000-0000-4a06-005001000000\n",
      "CustomCounterAgentEntity       False     False                 00005ea6-0000-0000-6e08-005001000000\n",
      "CustomerAttachmentsEntity      False     False                 00005ea6-0000-0000-a706-005001000000\n",
      "CustomerAttachmentsV2Entity    False     False                 00005ea6-0000-0000-2404-005001000000\n",
      "CustomerAttributeValueEntity   False     False                 00005ea6-0000-0000-ba05-005001000000\n",
      "CustomerBankAccountEntity      False     False                 00005ea6-0000-0000-d401-005001000000\n",
      "CustomerBOEProtestSetttleEnti… False     False                 00005ea6-0000-0000-2b05-005001000000\n",
      "CustomerFiscalDocTextReferenc… False     False                 00005ea6-0000-0000-f003-005001000000\n",
      "CustomerFiscalDocumentTextEnt… False     False                 00005ea6-0000-0000-d802-005001000000\n",
      "CustomerHierarchyCatalogEntity False     False                 00005ea6-0000-0000-9117-005001000000\n",
      "CustomerHierarchyEntity        False     False                 00005ea6-0000-0000-0208-005001000000\n",
      "CustomerHierarchyNodeEntity    False     False                 00005ea6-0000-0000-2402-005001000000\n",
      "CustomerParametersEntity       False     False                 00005ea6-0000-0000-5d04-005001000000\n",
      "CustomerPaymentFeeEntity       False     False                 00005ea6-0000-0000-5f01-005001000000\n",
      "CustomerPaymentJournalFeeEnti… False     False                 00005ea6-0000-0000-ef02-005001000000\n",
      "CustomerPaymentJournalHeaderE… False     False                 00005ea6-0000-0000-2507-005001000000\n",
      "CustomerPaymentJournalLineEnt… False     False                 00005ea6-0000-0000-5506-005001000000\n",
      "CustomerPaymentJournalLineSet… False     False                 00005ea6-0000-0000-7804-005001000000\n",
      "CustomerPaymentMethodEntity    False     False                 00005ea6-0000-0000-d705-005001000000\n",
      "CustomerPaymentMethodSpecific… False     False                 00005ea6-0000-0000-3907-005001000000\n",
      "CustomerPostalAddressEntity    False     False                 00005ea6-0000-0000-0006-005001000000\n",
      "CustomerPriorityClassificatio… False     False                 00005ea6-0000-0000-9e06-005001000000\n",
      "CustomOfficesEntity            False     False                 00005ea6-0000-0000-7608-005001000000\n",
      "CustPaymentInterestCodeEntity  False     False                 00005ea6-0000-0000-8008-005001000000\n",
      "CustTableChangeProposalFieldE… False     False                 00005ea6-0000-0000-8d02-005001000000\n",
      "CustTradingPartnerCodeEntity   False     False                 00005ea6-0000-0000-7b08-005001000000\n",
      "CustWriteOffFinancialReasonsS… False     False                 00005ea6-0000-0000-1f04-005001000000\n",
      "DimAttributeCustGroupEntity    False     False                 00005ea6-0000-0000-0708-005001000000\n",
      "DimAttributeCustTableEntity    False     False                 00005ea6-0000-0000-e502-005001000000\n",
      "DualWriteCustomerActivitiesEn… False     False                 00005ea6-0000-0000-1806-005001000000\n",
      "DualWriteCustomerActivitiesV2… False     False                 00005ea6-0000-0000-b117-005001000000\n",
      "EngChgEngineeringChangeCustom… False     False                 00005ea6-0000-0000-9209-005001000000\n",
      "FinTagCustomListValueEntity    False     False                 00005ea6-0000-0000-e31a-005001000000\n",
      "FiscalDocumentTypesForCustome… False     False                 00005ea6-0000-0000-9b03-005001000000\n",
      "GUPCustomerPricingAttributeGr… False     False                 00005ea6-0000-0000-d518-005001000000\n",
      "GUPCustomerPricingAttributeLi… False     False                 00005ea6-0000-0000-ee18-005001000000\n",
      "InventInventoryProfileCustome… False     False                 00005ea6-0000-0000-de05-005001000000\n",
      "InventSupplementaryProductCus… False     False                 00005ea6-0000-0000-8117-005001000000\n",
      "ITMCustomsDescriptionEntity    False     False                 00005ea6-0000-0000-af0a-005001000000\n",
      "LTMCustDefaultDocumentClassEn… False     False                 00005ea6-0000-0000-de1a-005001000000\n",
      "LTMCustInvoiceJourEntity       False     False                 00005ea6-0000-0000-dd1a-005001000000\n",
      "LTMCustInvoiceTableEntity      False     False                 00005ea6-0000-0000-be1a-005001000000\n",
      "LTMCustTableEntity             False     False                 00005ea6-0000-0000-b51a-005001000000\n",
      "LTMCustTaxesAreaDetailEntity   False     False                 00005ea6-0000-0000-d31a-005001000000\n",
      "LTMCustTaxesAreaEntity         False     False                 00005ea6-0000-0000-b21a-005001000000\n",
      "LTMCustVendDocumentClassEntity False     False                 00005ea6-0000-0000-ba1a-005001000000\n",
      "MarkupPeriodChargeRuleCustome… False     False                 00005ea6-0000-0000-9017-005001000000\n",
      "MarkupPeriodChargeRuleLineCus… False     False                 00005ea6-0000-0000-8a17-005001000000\n",
      "MCRContinuityCustomerPaymentE… False     False                 00005ea6-0000-0000-3f04-005001000000\n",
      "MCRCouponCustomerEntity        False     False                 00005ea6-0000-0000-1108-005001000000\n",
      "MCRCustomerCreditPaymentEntity False     False                 00005ea6-0000-0000-7805-005001000000\n",
      "MCRCustomerInvoicePaymentEnti… False     False                 00005ea6-0000-0000-2602-005001000000\n",
      "MCRInstallmentPlanCustomerPay… False     False                 00005ea6-0000-0000-0a05-005001000000\n",
      "MCRPostageDiscountCustomerGro… False     False                 00005ea6-0000-0000-5602-005001000000\n",
      "MCRSalesOrderCustomerPaymentE… False     False                 00005ea6-0000-0000-bb02-005001000000\n",
      "PriceDiscLineDiscountCustomer… False     False                 00005ea6-0000-0000-2302-005001000000\n",
      "PriceDiscMultilineDiscountCus… False     False                 00005ea6-0000-0000-aa03-005001000000\n",
      "PriceDiscPriceCustomerGroupEn… False     False                 00005ea6-0000-0000-8504-005001000000\n",
      "PriceDiscTotalDiscountCustome… False     False                 00005ea6-0000-0000-6304-005001000000\n",
      "ProjCustomerRetentionTermEnti… False     False                 00005ea6-0000-0000-3b07-005001000000\n",
      "ProjCustomerRetentionTermSche… False     False                 00005ea6-0000-0000-7c04-005001000000\n",
      "ProjProjectGrantCustomerTypeE… False     False                 00005ea6-0000-0000-2807-005001000000\n",
      "RetailClientBookCustomerEntity False     False                 00005ea6-0000-0000-dd03-005001000000\n",
      "RetailCustomerAffiliationEnti… False     False                 00005ea6-0000-0000-5f03-005001000000\n",
      "RetailCustomerSearchFieldEnti… False     False                 00005ea6-0000-0000-ea0a-005001000000\n",
      "RetailCustomerSearchFieldTran… False     False                 00005ea6-0000-0000-f00a-005001000000\n",
      "RetailDesignerCustomerAttribu… False     False                 00005ea6-0000-0000-4a07-005001000000\n",
      "RetailExternalIdToCustomerMap… False     False                 00005ea6-0000-0000-c304-005001000000\n",
      "RetailTerminalCustomFieldEnti… False     False                 00005ea6-0000-0000-e50a-005001000000\n",
      "RetailTmpCustomerMediaEntity   False     False                 00005ea6-0000-0000-7a05-005001000000\n",
      "RetailTransactionFiscalCustom… False     False                 00005ea6-0000-0000-2202-005001000000\n",
      "SalesCustomerProductDescripti… False     False                 00005ea6-0000-0000-1802-005001000000\n",
      "SalesCustomerProductDescripti… False     False                 00005ea6-0000-0000-a603-005001000000\n",
      "SalesExternallyMaintainedCust… False     False                 00005ea6-0000-0000-a007-005001000000\n",
      "SalesExternallyMaintainedCust… False     False                 00005ea6-0000-0000-4f04-005001000000\n",
      "SalesExternallyMaintainedCust… False     False                 00005ea6-0000-0000-6405-005001000000\n",
      "smmCustomerContactPersonCDSEn… False     False                 00005ea6-0000-0000-7402-005001000000\n",
      "SubBillCustomerSplitLineEntity False     False                 00005ea6-0000-0000-3617-005001000000\n",
      "SubBillCustomerSplitTableEnti… False     False                 00005ea6-0000-0000-3417-005001000000\n",
      "SysCustomFieldPicklistValueEn… False     False                 00005ea6-0000-0000-9f09-005001000000\n",
      "TAMRebateCustomerRebateAndDed… False     False                 00005ea6-0000-0000-b609-005001000000\n",
      "TAMRebateCustomerRebateAndDed… False     False                 00005ea6-0000-0000-b509-005001000000\n",
      "TAMRebateCustomerRebateReduct… False     False                 00005ea6-0000-0000-bc09-005001000000\n",
      "TaxCustomsBillOfEntryNumberEn… False     False                 00005ea6-0000-0000-5707-005001000000\n",
      "TaxCustomsImportInvoiceNumber… False     False                 00005ea6-0000-0000-8205-005001000000\n",
      "TaxCustomsShippingBillNumberE… False     False                 00005ea6-0000-0000-d903-005001000000\n",
      "TaxCustomsTariffCodeEntity     False     False                 00005ea6-0000-0000-1207-005001000000\n",
      "TaxCustomsTaxRegistrationNumb… False     False                 00005ea6-0000-0000-9202-005001000000\n",
      "TaxServiceTaxRegistrationNumb… False     False                 00005ea6-0000-0000-9b1a-005001000000\n",
      "TNVEDToCustomsPaymentsRelatio… False     False                 00005ea6-0000-0000-0103-005001000000\n",
      "\n"
     ]
    }
   ],
   "source": [
    "$fnoEnvironments = (Get-BapEnvironment | Where-Object { $_.LinkedappLcsEnvUri -ne $null })\n",
    "Get-BapEnvironmentVirtualEntity -EnvironmentId $fnoEnvironments[0].Id -Name Cust*"
   ]
  },
  {
   "cell_type": "markdown",
   "metadata": {},
   "source": [
    "# Compare cmdlets\n",
    "\n",
    "The `Compare` cmdlets are used to compare different aspects of your business applications. They are useful to understand the differences between environments, solutions, and other objects. Internally, they use the `Get` cmdlets to retrieve the information to compare.\n",
    "\n",
    "## Compare-BapEnvironmentUser\n",
    "\n",
    "The `Compare-BapEnvironmentUser` cmdlet compares the users of two environments. It is useful to understand the differences between the users of a development and a production environment, for example. Usually, you run the cmdlet with the `-ShowDiffOnly` switch to get only the users that are different between the two environments."
   ]
  },
  {
   "cell_type": "code",
   "execution_count": 20,
   "metadata": {
    "dotnet_interactive": {
     "language": "pwsh"
    },
    "polyglot_notebook": {
     "kernelName": "pwsh"
    },
    "vscode": {
     "languageId": "polyglot-notebook"
    }
   },
   "outputs": [
    {
     "name": "stdout",
     "output_type": "stream",
     "text": [
      "\n",
      "\u001b[32;1mEmail                         \u001b[0m\u001b[32;1m Name                          \u001b[0m\u001b[32;1m AppId               \u001b[0m\u001b[32;1m SourceId\u001b[0m\n",
      "\u001b[32;1m-----                         \u001b[0m \u001b[32;1m----                          \u001b[0m \u001b[32;1m-----               \u001b[0m \u001b[32;1m--------       \u001b[0m\n",
      "user1@mycompany.com            User First                                          abcdefgh-1234-…\n",
      "user2@mycompany.com            User Second                                         abcdefgh-1234-…\n",
      "\n"
     ]
    }
   ],
   "source": [
    "Compare-BapEnvironmentUser -SourceEnvironmentId $environments[0].Id -DestinationEnvironmentId $environments[1].Id -ShowDiffOnly"
   ]
  },
  {
   "cell_type": "markdown",
   "metadata": {},
   "source": [
    "## Compare-BapEnvironmentD365App\n",
    "\n",
    "The `Compare-BapEnvironmentD365App` cmdlet compares the solutions of two environments. It is useful to understand the differences between the solutions of a development and a production environment, for example. Again, you usually run the cmdlet with the `-ShowDiffOnly` switch to get only the solutions that are different between the two environments."
   ]
  },
  {
   "cell_type": "code",
   "execution_count": 3,
   "metadata": {
    "dotnet_interactive": {
     "language": "pwsh"
    },
    "polyglot_notebook": {
     "kernelName": "pwsh"
    },
    "vscode": {
     "languageId": "polyglot-notebook"
    }
   },
   "outputs": [
    {
     "name": "stdout",
     "output_type": "stream",
     "text": [
      "\n",
      "\u001b[32;1mPackageId                           \u001b[0m\u001b[32;1m PackageName                   \u001b[0m\u001b[32;1m SourceVersion      \u001b[0m\u001b[32;1m Destination\u001b[0m\n",
      "\u001b[32;1m                                    \u001b[0m\u001b[32;1m                               \u001b[0m\u001b[32;1m                    \u001b[0m\u001b[32;1m Version\u001b[0m\n",
      "\u001b[32;1m---------                           \u001b[0m \u001b[32;1m-----------                   \u001b[0m \u001b[32;1m-------------      \u001b[0m \u001b[32;1m-----------\u001b[0m\n",
      "11111111-1111-1111-1111-111111111111 AgentProductivityToolsAnchor   9.2.24023.2000      Missing    \n",
      "22222222-2222-2222-2222-222222222222 msdyn_AppProfileManagerAnchor  10.1.24021.1005     Missing    \n",
      "33333333-3333-3333-3333-333333333333 msdynce_CustomerCareIntellige… 0.0.0.0             Missing    \n",
      "\n"
     ]
    }
   ],
   "source": [
    "Compare-BapEnvironmentD365App -SourceEnvironmentId $environments[0].Id -DestinationEnvironmentId $environments[1].Id -ShowDiffOnly"
   ]
  },
  {
   "cell_type": "markdown",
   "metadata": {},
   "source": [
    "# Other cmdlets\n",
    "\n",
    "The `Get` and `Compare` cmdlets are just a few of the cmdlets available in the module. In later, more scenario-specific notebooks, you will learn more about other cmdlets. But for now, you can use the `Get-Command` and `Get-Help` cmdlets to learn about them. Feel free to use the following cell for your own experiments."
   ]
  },
  {
   "cell_type": "code",
   "execution_count": 7,
   "metadata": {
    "dotnet_interactive": {
     "language": "pwsh"
    },
    "polyglot_notebook": {
     "kernelName": "pwsh"
    },
    "vscode": {
     "languageId": "polyglot-notebook"
    }
   },
   "outputs": [],
   "source": [
    "# How about listing all the environments that have a specific D365 app installed?"
   ]
  }
 ],
 "metadata": {
  "kernelspec": {
   "display_name": ".NET (C#)",
   "language": "C#",
   "name": ".net-csharp"
  },
  "language_info": {
   "name": "csharp"
  },
  "polyglot_notebook": {
   "kernelInfo": {
    "defaultKernelName": "csharp",
    "items": [
     {
      "aliases": [],
      "name": "csharp"
     }
    ]
   }
  }
 },
 "nbformat": 4,
 "nbformat_minor": 2
}
