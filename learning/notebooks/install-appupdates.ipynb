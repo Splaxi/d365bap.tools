{
 "cells": [
  {
   "cell_type": "markdown",
   "metadata": {},
   "source": [
    "# Install app updates\n",
    "\n",
    "In this notebook, you will learn how to use d365bap.tools to determine the apps of an environment that have updates available and install them.\n",
    "\n",
    "## Authentication\n",
    "\n",
    "First, you need to authorize your Azure account. Review [Get started](get-started.ipynb) for more details."
   ]
  },
  {
   "cell_type": "code",
   "execution_count": 2,
   "metadata": {
    "dotnet_interactive": {
     "language": "pwsh"
    },
    "polyglot_notebook": {
     "kernelName": "pwsh"
    },
    "vscode": {
     "languageId": "polyglot-notebook"
    }
   },
   "outputs": [
    {
     "name": "stdout",
     "output_type": "stream",
     "text": [
      "\u001b[93mWARNING: To sign in, use a web browser to open the page https://microsoft.com/devicelogin and enter the code ABCD1234 to authenticate.\u001b[0m\n",
      "\n",
      "\u001b[32;1;3mAccount                 \u001b[0m \u001b[32;1;3mSubscriptionName                \u001b[0m \u001b[32;1;3mTenantId                            \u001b[0m \u001b[32;1;3mEnvi\u001b[0m\n",
      "\u001b[32;1;3m                        \u001b[0m \u001b[32;1;3m                                \u001b[0m \u001b[32;1;3m                                    \u001b[0m \u001b[32;1;3mronm\u001b[0m\n",
      "\u001b[32;1;3m                        \u001b[0m \u001b[32;1;3m                                \u001b[0m \u001b[32;1;3m                                    \u001b[0m \u001b[32;1;3ment\u001b[0m\n",
      "\u001b[32;1m-------                 \u001b[0m \u001b[32;1m----------------                \u001b[0m \u001b[32;1m--------                            \u001b[0m \u001b[32;1m----\u001b[0m\n",
      "me@mycompany.com         MySubscriptionName               abcdefgh-1234-5678-90ab-cdefghijklmn Azu…\n",
      "\n"
     ]
    }
   ],
   "source": [
    "Connect-AzAccount -UseDeviceAuthentication"
   ]
  },
  {
   "cell_type": "markdown",
   "metadata": {},
   "source": [
    "## Get apps with available updates\n",
    "\n",
    "Next, you will use the `Get-BapEnvironment` and `Get-BapEnvironmentD365App` cmdlets to get the apps of an environment that have updates available."
   ]
  },
  {
   "cell_type": "code",
   "execution_count": 12,
   "metadata": {
    "dotnet_interactive": {
     "language": "pwsh"
    },
    "polyglot_notebook": {
     "kernelName": "pwsh"
    },
    "vscode": {
     "languageId": "polyglot-notebook"
    }
   },
   "outputs": [
    {
     "name": "stdout",
     "output_type": "stream",
     "text": [
      "11111111-2222-3333-4444-555555555555\n"
     ]
    }
   ],
   "source": [
    "$environments = Get-BapEnvironment\n",
    "$appIds = @(Get-BapEnvironmentD365App -EnvironmentId $environments[0].Id -InstallState Installed -UpdatesOnly | Select-Object -ExpandProperty PackageId)\n",
    "$appIds[0] # Output the first app id that has an update available to make sure there is at least one"
   ]
  },
  {
   "cell_type": "markdown",
   "metadata": {},
   "source": [
    "# Invoke-BapEnvironmentInstallD365App\n",
    "\n",
    "Finally, you will use the `Invoke-BapEnvironmentInstallD365App` cmdlet to install the update."
   ]
  },
  {
   "cell_type": "code",
   "execution_count": 13,
   "metadata": {
    "dotnet_interactive": {
     "language": "pwsh"
    },
    "polyglot_notebook": {
     "kernelName": "pwsh"
    },
    "vscode": {
     "languageId": "polyglot-notebook"
    }
   },
   "outputs": [
    {
     "name": "stdout",
     "output_type": "stream",
     "text": [
      "\u001b[32;1mstatus \u001b[0m\u001b[32;1m createdDateTime    \u001b[0m\u001b[32;1m lastActionDateTime \u001b[0m\u001b[32;1m error\u001b[0m\u001b[32;1m statusMessage\u001b[0m\u001b[32;1m operationId\u001b[0m\n",
      "\u001b[32;1m------ \u001b[0m \u001b[32;1m---------------    \u001b[0m \u001b[32;1m------------------ \u001b[0m \u001b[32;1m-----\u001b[0m \u001b[32;1m-------------\u001b[0m \u001b[32;1m-----------\u001b[0m\n",
      "Running 3/5/2024 5:00:33 PM 3/5/2024 5:00:43 PM                     052034b9-167b-4ac5-ba12-288b8d…\n",
      "\n",
      "\u001b[32;1mstatus   \u001b[0m\u001b[32;1m createdDateTime    \u001b[0m\u001b[32;1m lastActionDateTime \u001b[0m\u001b[32;1m error\u001b[0m\u001b[32;1m statusMessage\u001b[0m\u001b[32;1m operationId\u001b[0m\n",
      "\u001b[32;1m------   \u001b[0m \u001b[32;1m---------------    \u001b[0m \u001b[32;1m------------------ \u001b[0m \u001b[32;1m-----\u001b[0m \u001b[32;1m-------------\u001b[0m \u001b[32;1m-----------\u001b[0m\n",
      "Succeeded 3/5/2024 5:00:33 PM 3/5/2024 5:02:31 PM                     052034b9-167b-4ac5-ba12-288b…\n",
      "\n"
     ]
    }
   ],
   "source": [
    "Invoke-BapEnvironmentInstallD365App -EnvironmentId $environments[0].Id -PackageId $appIds[0]"
   ]
  }
 ],
 "metadata": {
  "language_info": {
   "name": "csharp"
  }
 },
 "nbformat": 4,
 "nbformat_minor": 2
}
