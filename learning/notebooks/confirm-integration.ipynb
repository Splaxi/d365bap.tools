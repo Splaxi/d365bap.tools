{
 "cells": [
  {
   "cell_type": "markdown",
   "metadata": {},
   "source": [
    "# Confirm integration\n",
    "\n",
    "This short notebook will teach you how to use the `Confirm-BapEnvironmentIntegration` cmdlet.\n",
    "\n",
    "## Authentication\n",
    "\n",
    "First, you need to authorize your Azure account. Review [Get started](get-started.ipynb) for more details."
   ]
  },
  {
   "cell_type": "code",
   "execution_count": 2,
   "metadata": {
    "dotnet_interactive": {
     "language": "pwsh"
    },
    "polyglot_notebook": {
     "kernelName": "pwsh"
    },
    "vscode": {
     "languageId": "polyglot-notebook"
    }
   },
   "outputs": [
    {
     "name": "stdout",
     "output_type": "stream",
     "text": [
      "\u001b[93mWARNING: To sign in, use a web browser to open the page https://microsoft.com/devicelogin and enter the code ABCD1234 to authenticate.\u001b[0m\n",
      "\n",
      "\u001b[32;1;3mAccount                 \u001b[0m \u001b[32;1;3mSubscriptionName                \u001b[0m \u001b[32;1;3mTenantId                            \u001b[0m \u001b[32;1;3mEnvi\u001b[0m\n",
      "\u001b[32;1;3m                        \u001b[0m \u001b[32;1;3m                                \u001b[0m \u001b[32;1;3m                                    \u001b[0m \u001b[32;1;3mronm\u001b[0m\n",
      "\u001b[32;1;3m                        \u001b[0m \u001b[32;1;3m                                \u001b[0m \u001b[32;1;3m                                    \u001b[0m \u001b[32;1;3ment\u001b[0m\n",
      "\u001b[32;1m-------                 \u001b[0m \u001b[32;1m----------------                \u001b[0m \u001b[32;1m--------                            \u001b[0m \u001b[32;1m----\u001b[0m\n",
      "me@mycompany.com         MySubscriptionName               abcdefgh-1234-5678-90ab-cdefghijklmn Azu…\n",
      "\n"
     ]
    }
   ],
   "source": [
    "Connect-AzAccount -UseDeviceAuthentication"
   ]
  },
  {
   "cell_type": "markdown",
   "metadata": {},
   "source": [
    "## Confirm-BapEnvironmentIntegration\n",
    "\n",
    "In the `Get-BapEnvironmentVirtualEntity` section of [Learn commands](learn-commands.ipynb), you learned how to filter the output of `Get-BapEnvironment` by the `LinkedAppLcsEnvUri` property to get only environments that have a Dynamics 365 Finance and Operations app. But just because the `LinkedAppLcsEnvUri` property has a value does not necessarily mean that the environment is fully integrated with the app. To verify the full integration, you can use the `Confirm-BapEnvironmentIntegration` cmdlet."
   ]
  },
  {
   "cell_type": "code",
   "execution_count": 4,
   "metadata": {
    "dotnet_interactive": {
     "language": "pwsh"
    },
    "polyglot_notebook": {
     "kernelName": "pwsh"
    },
    "vscode": {
     "languageId": "polyglot-notebook"
    }
   },
   "outputs": [
    {
     "name": "stdout",
     "output_type": "stream",
     "text": [
      "3 integrated environments\n",
      "\n",
      "\u001b[32;1mLinkedAppLcsEnvId                   \u001b[0m\u001b[32;1m LinkedAppLcsEnvUri                                \u001b[0m\u001b[32;1m IsUnifiedDa\u001b[0m\n",
      "\u001b[32;1m                                    \u001b[0m\u001b[32;1m                                                   \u001b[0m\u001b[32;1m tabase\u001b[0m\n",
      "\u001b[32;1m-----------------                   \u001b[0m \u001b[32;1m------------------                                \u001b[0m \u001b[32;1m-----------\u001b[0m\n",
      "11111111-1111-1111-1111-111111111111 https://my1stenvironment.sandbox.operations.dynam… False      \n",
      "22222222-2222-2222-2222-222222222222 https://my2ndenvironment.sandbox.operations.dynam… False      \n",
      "33333333-3333-3333-3333-333333333333 https://my3rdenvironment.sandbox.operations.dynam… False      \n",
      "\n"
     ]
    }
   ],
   "source": [
    "$fnoLinkedEnvironments = (Get-BapEnvironment | Where-Object { $_.LinkedappLcsEnvUri -ne $null })\n",
    "$fnoIntegratedEnvironments = @()\n",
    "foreach ($environment in $fnoLinkedEnvironments) {\n",
    "    $confirmation = Confirm-BapEnvironmentIntegration -EnvironmentId $environment.Id\n",
    "    if ($confirmation) {\n",
    "        $fnoIntegratedEnvironments += $confirmation\n",
    "    }\n",
    "}\n",
    "Write-Host \"$($fnoIntegratedEnvironments.Count) integrated environments\"\n",
    "$fnoIntegratedEnvironments"
   ]
  }
 ],
 "metadata": {
  "language_info": {
   "name": "csharp"
  }
 },
 "nbformat": 4,
 "nbformat_minor": 2
}
